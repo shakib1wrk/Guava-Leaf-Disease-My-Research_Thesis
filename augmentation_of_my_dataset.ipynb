{
  "cells": [
    {
      "cell_type": "code",
      "source": [
        "from google.colab import drive\n",
        "\n",
        "drive.mount('/content/drive')"
      ],
      "metadata": {
        "colab": {
          "base_uri": "https://localhost:8080/"
        },
        "id": "1ZHRp9Mp1xss",
        "outputId": "3dad1e57-69ac-4777-a38e-b586aaf50cfd"
      },
      "id": "1ZHRp9Mp1xss",
      "execution_count": 1,
      "outputs": [
        {
          "output_type": "stream",
          "name": "stdout",
          "text": [
            "Mounted at /content/drive\n"
          ]
        }
      ]
    },
    {
      "cell_type": "code",
      "source": [
        "!pip install split-folders"
      ],
      "metadata": {
        "colab": {
          "base_uri": "https://localhost:8080/"
        },
        "id": "2lEiqiUV2Ba7",
        "outputId": "e6cca4e0-50f9-4b35-f46e-70b6f7f488bd"
      },
      "id": "2lEiqiUV2Ba7",
      "execution_count": 2,
      "outputs": [
        {
          "output_type": "stream",
          "name": "stdout",
          "text": [
            "Collecting split-folders\n",
            "  Downloading split_folders-0.5.1-py3-none-any.whl (8.4 kB)\n",
            "Installing collected packages: split-folders\n",
            "Successfully installed split-folders-0.5.1\n"
          ]
        }
      ]
    },
    {
      "cell_type": "code",
      "execution_count": 3,
      "id": "c3376f6d",
      "metadata": {
        "id": "c3376f6d"
      },
      "outputs": [],
      "source": [
        "import os\n",
        "import splitfolders\n",
        "from PIL import Image\n",
        "import tensorflow.keras as keras\n",
        "from tensorflow.keras.preprocessing.image import ImageDataGenerator, img_to_array, load_img"
      ]
    },
    {
      "cell_type": "markdown",
      "id": "a9f84e57",
      "metadata": {
        "id": "a9f84e57"
      },
      "source": [
        "## 1. Augmentation\n",
        "* Rotation\n",
        "* Width Shift\n",
        "* Height Shift\n",
        "* Shear\n",
        "* Zoom\n",
        "* Flip"
      ]
    },
    {
      "cell_type": "code",
      "execution_count": 8,
      "id": "72c95715",
      "metadata": {
        "id": "72c95715"
      },
      "outputs": [],
      "source": [
        "disease_names = ['Canker', 'Curling', 'Leaf_spot', 'Nutritional Deficiency', 'Powdery Mildew', 'Rust']\n",
        "\n",
        "# root_directory = 'Raw_Datas'\n",
        "# root_output_directory = 'Augmented'\n",
        "root_directory = '/content/drive/MyDrive/Raw_Datas'\n",
        "root_output_directory = '/content/drive/MyDrive/Raw_Datas/Augmented_Dataset'\n",
        "\n",
        "# Get a list of all directories inside the root directory excluding .ipynb_checkpoints\n",
        "subdirectories = [f.path for f in os.scandir(root_directory) if f.is_dir() and f.name != '.ipynb_checkpoints']\n",
        "\n",
        "# Generate the source_directories list using list comprehension\n",
        "source_directories = subdirectories\n",
        "\n",
        "output_directories = [os.path.join(root_output_directory,\n",
        "                                   f\"{disease.lower().replace(' ', '_')}\") for disease in disease_names]\n",
        "\n",
        "# Create the output directories if they don't exist\n",
        "for out_dir in output_directories:\n",
        "    os.makedirs(out_dir, exist_ok=True)\n",
        "\n",
        "# Define the data augmentation settings\n",
        "datagen = ImageDataGenerator(\n",
        "    rotation_range=20,\n",
        "    width_shift_range=0.1,\n",
        "    height_shift_range=0.1,\n",
        "    shear_range=0.2,\n",
        "    zoom_range=0.2,\n",
        "    horizontal_flip=True,\n",
        "    fill_mode='nearest'\n",
        ")\n",
        "\n",
        "# Iterate over source directories\n",
        "for source_dir, output_dir in zip(source_directories, output_directories):\n",
        "    image_file_names = [f for f in os.listdir(source_dir) if f.lower().endswith(('.jpg', '.jpeg', '.png'))]\n",
        "\n",
        "    # Generate and save augmented images for each image in the source directory\n",
        "    for img_name in image_file_names:\n",
        "        img_path = os.path.join(source_dir, img_name)\n",
        "\n",
        "        # Resize the image to 512x512\n",
        "        img = load_img(img_path, target_size=(512, 512))\n",
        "\n",
        "        img_array = img_to_array(img)\n",
        "        img_array = img_array.reshape((1,) + img_array.shape)\n",
        "\n",
        "        aug_iter = datagen.flow(\n",
        "            x=img_array,\n",
        "            batch_size=1,\n",
        "            save_to_dir=output_dir,\n",
        "            save_prefix='aug',\n",
        "            save_format='jpg'\n",
        "        )\n",
        "\n",
        "        n_augmented_images = 10\n",
        "        for _ in range(n_augmented_images):\n",
        "            batch = aug_iter.next()\n"
      ]
    },
    {
      "cell_type": "markdown",
      "id": "ca2f1376",
      "metadata": {
        "id": "ca2f1376"
      },
      "source": [
        "## 2. Split Data Into Training, Test and Validation Set\n",
        "* 70% Train\n",
        "* 15% Test\n",
        "* 15% Validation"
      ]
    },
    {
      "cell_type": "code",
      "execution_count": 9,
      "id": "71a6e7e7",
      "metadata": {
        "id": "71a6e7e7",
        "colab": {
          "base_uri": "https://localhost:8080/"
        },
        "outputId": "da955dd2-22bf-422d-99ae-558097388d4a"
      },
      "outputs": [
        {
          "output_type": "stream",
          "name": "stderr",
          "text": [
            "Copying files: 4225 files [00:00, 6024.96 files/s]\n"
          ]
        }
      ],
      "source": [
        "input_folder = \"/content/drive/MyDrive/Raw_Datas/Augmented_Dataset\"\n",
        "\n",
        "splitfolders.ratio(input_folder, output=\"Output_Datas\", seed=42, ratio=(.7, .15, .15),\n",
        "                  group_prefix=None)"
      ]
    }
  ],
  "metadata": {
    "kernelspec": {
      "display_name": "Python 3",
      "name": "python3"
    },
    "language_info": {
      "codemirror_mode": {
        "name": "ipython",
        "version": 3
      },
      "file_extension": ".py",
      "mimetype": "text/x-python",
      "name": "python",
      "nbconvert_exporter": "python",
      "pygments_lexer": "ipython3",
      "version": "3.10.13"
    },
    "colab": {
      "provenance": []
    }
  },
  "nbformat": 4,
  "nbformat_minor": 5
}